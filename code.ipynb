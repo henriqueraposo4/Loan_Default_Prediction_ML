{
 "cells": [
  {
   "cell_type": "markdown",
   "metadata": {
    "deletable": false,
    "editable": false,
    "nbgrader": {
     "grade": false,
     "locked": true,
     "solution": false
    }
   },
   "source": [
    "# Loan Default Prediction\n",
    "\n",
    "### 1. Introduction to the Dataset\n",
    "\n",
    "In this project you will be working with a dataset made available through [Lending Club](https://www.lendingclub.com/). The original data is made available through [Kaggle](https://www.kaggle.com/wendykan/lending-club-loan-data). However, we will be working with only a sample of their original dataset. \n",
    "\n",
    "Lending Club is a peer to peer lending company, where individuals can take personal loans based on their credit worthiness. The loan issue and approval processes are typically not as stringent as a bank and is usually **unsecured**. Hence, it is very important for Lending Club, as a platform to know ahead of time which loans will default and which loans will be successfully repaid. \n",
    "\n",
    "### 2. Dataset and [Data Dictionary](https://github.com/ssomanch/ITAO40230_Spring_2023/blob/main/LCDataDictionary.csv)\n",
    "\n",
    "The original data included information for the years starting from 2007. However, to avoid the adverse effects due to the recession, we will only be working with a sample of data concentrating between the years 2009 to 2011. \n",
    "\n",
    "The Data Dictionary for the original data is available on [Kaggle](https://www.kaggle.com/wendykan/lending-club-loan-data/data). I have also created a copy for the data dictionary [here on Github](https://github.com/ssomanch/ITAO30210_Fall_2019/blob/master/LCDataDictionary.csv). Note, that we will be using only subset of columns in our dataset. So, don't be surprised if you find some columns that are available in the data dictionary but not in our dataset. \n",
    "\n",
    "### 3. Project Details\n",
    "\n",
    "Lending Club as a platform would like to give its customers (who are lending) an early indicator about how likely a loan requested by a peer customer will be repaid. This will increase more transactions on their platform leading to more loan transactions and hence more profit. \n",
    "\n",
    "#### 3.1 Main Goal\n",
    "\n",
    "The main goal of the project is to use the information that is available before a loan is being issued to provide a method to **predict if a loan requested will be defaulted or not**. In the dataset, the `default_ind` gives an indicator if the loan is defaulted. If it is 1, the loan is defaulted and if it is 0, the loan has been successfully paid off. Hence, the main goal is to **learn from the data a classifier that can be used in Lending Club platform to help their lending customers make a decision to issue a loan**. \n",
    "\n",
    "#### 3.2 Suggested Steps: \n",
    "\n",
    "The following are high level steps involved in the project. **Do not forget to provide a justification for any choices you made** in any of the following steps. \n",
    "\n",
    "1. **Clean up the data**: The original dataset was large and messy. I have cleaned up the data for you, however, you have to complete the cleanup. The most important things to do are:\n",
    "    * Identify which of the columns are of no use in predicting the default. For example, do you think the 'id' or 'title' will be a useful for predicting the default? Think carefully about each column in the dataset and remove all the columns that are not important. \n",
    "    * Are there any missing values in the data? If so, choose an appropriate method to fill these missing values. \n",
    "    * Find the columns (other than 'default_ind') that are categorical data type and use **`get_dummies`** method to convert them as indicators, so that they can be easily fed into a classifier. \n",
    "    * Finally, separate the input characteristics (X) and the outcome variable(Y). Note in this case the outcome variable of interest is `'default_ind'`. \n",
    "\n",
    "2. **Before analysis idenfication**: Once you have identified your input characteristics (X) that can be used to predict the loan default, provide an **ordered list** of these input characteristics (X) that you think will be most important in predicting the loan default. For this step, you do not need to do any data analysis, but provide qualitative reasons for choosing the order. \n",
    "\n",
    "2. **Split the Data**: Split the data randomly into the train and the test data. Use the training data to learn the classifier and use the test data to verify the accuracy of your learned classifier. \n",
    "\n",
    "3. **Learn the classifiers**: Learn the classifiers (Logistic Regression Classifier and Decision Tree Classifier) from the training data. \n",
    "    * Make sure you use a **cross validation** technique to learn the parameters of the classifier. \n",
    "\n",
    "4. **Testing the performance of the classifiers**: One of the ways to know if the classifier has learned the loan default prediction is to verify the performance of the classifiers on the test data. Present the accuracy of the classifier as well as the confusion matrix. \n",
    "\n",
    "5. **Understanding the classifiers**: One of the most basic things to open the learned classifier black box is to know which input characteristics were important for predicting the loan default. Use the existing functions (plot_feature_importance_coeff, plot_feature_importance) to plot the feature importance. Remember, `plot_feature_importance_coeff` is typically used for logistic regression classifier, and `plot_feature_importance` is used for decision tree classifier. \n",
    "    * **Discuss** how (dis)similar the order of the input characteristics is to the order you have chosen in step 2.  \n",
    "\n",
    "5. **Report on managerial implications:** The **most important** of the analysis is to provide managerial implications from the analysis. At the end of the analysis, write down a short summary explaining the important takeaways from your analysis. \n",
    "\n",
    "### 4. Submission Expectations and Requirements\n",
    "\n",
    "1. **Jupyter notebook** with your entire Python code and data analysis that you have done. It should *only* contain the analysis (Python code) that is used to make arguments in your project report. Points are allocated for neatness of Jupyter Notebooks. Also, you have to make sure the analysis is reproducible, that is, the grader should be able run your notebook to reproduce your results. \n",
    "\n",
    "2. You need to just submit one Jupyter notebook that includes both your analysis (Python code) and the report on managerial implications. Use headings in Markdown to clearly distinguish between your report and Python code. \n"
   ]
  },
  {
   "cell_type": "markdown",
   "metadata": {},
   "source": [
    "# <font color = 'blue'><u>Part 1: Cleaning Data</u></font>\n",
    "## <font color = 'green'> Preparation</font>\n",
    "\n",
    "### Importing for Data Manipulation, Cleaning, Visualization, and Machine Learning"
   ]
  },
  {
   "cell_type": "code",
   "execution_count": 74,
   "metadata": {
    "collapsed": true
   },
   "outputs": [],
   "source": [
    "import numpy as np\n",
    "import pandas as pd\n",
    "\n",
    "import datetime\n",
    "\n",
    "from sklearn.linear_model import LogisticRegression\n",
    "from sklearn.tree import DecisionTreeClassifier as DecisionTree\n",
    "from sklearn.model_selection import train_test_split\n",
    "from sklearn.model_selection import GridSearchCV\n",
    "from sklearn.metrics import accuracy_score\n",
    "from sklearn.metrics import confusion_matrix\n",
    "from sklearn import metrics\n",
    "\n",
    "import seaborn as sns\n",
    "sns.set(color_codes=True)\n",
    "import matplotlib\n",
    "import matplotlib.pyplot as plt\n",
    "%matplotlib inline"
   ]
  },
  {
   "cell_type": "markdown",
   "metadata": {},
   "source": [
    "### <font color = 'green'> Loading the Data</font>"
   ]
  },
  {
   "cell_type": "code",
   "execution_count": 75,
   "metadata": {
    "collapsed": true,
    "nbgrader": {
     "grade": false,
     "locked": false,
     "solution": false
    }
   },
   "outputs": [],
   "source": [
    "loan_data = pd.read_csv('./data/Lending_Club_sample_data.csv', encoding='latin-1')"
   ]
  },
  {
   "cell_type": "code",
   "execution_count": 76,
   "metadata": {},
   "outputs": [
    {
     "data": {
      "text/plain": [
       "id                        int64\n",
       "member_id               float64\n",
       "funded_amnt             float64\n",
       "term                     object\n",
       "int_rate                float64\n",
       "sub_grade                 int64\n",
       "emp_title                object\n",
       "emp_length               object\n",
       "home_ownership           object\n",
       "annual_inc              float64\n",
       "verification_status      object\n",
       "pymnt_plan               object\n",
       "purpose                  object\n",
       "title                    object\n",
       "addr_state               object\n",
       "dti                     float64\n",
       "delinq_2yrs             float64\n",
       "earliest_cr_line          int64\n",
       "fico_range_low          float64\n",
       "fico_range_high         float64\n",
       "inq_last_6mths          float64\n",
       "open_acc                float64\n",
       "pub_rec                 float64\n",
       "revol_bal               float64\n",
       "revol_util              float64\n",
       "total_acc               float64\n",
       "last_fico_range_high    float64\n",
       "last_fico_range_low     float64\n",
       "pub_rec_bankruptcies    float64\n",
       "default_ind               int64\n",
       "dtype: object"
      ]
     },
     "execution_count": 76,
     "metadata": {},
     "output_type": "execute_result"
    }
   ],
   "source": [
    "#Check the data types of all columns in 'loan_data'\n",
    "loan_data.dtypes"
   ]
  },
  {
   "cell_type": "code",
   "execution_count": 77,
   "metadata": {
    "scrolled": true
   },
   "outputs": [
    {
     "data": {
      "text/html": [
       "<div>\n",
       "<style scoped>\n",
       "    .dataframe tbody tr th:only-of-type {\n",
       "        vertical-align: middle;\n",
       "    }\n",
       "\n",
       "    .dataframe tbody tr th {\n",
       "        vertical-align: top;\n",
       "    }\n",
       "\n",
       "    .dataframe thead th {\n",
       "        text-align: right;\n",
       "    }\n",
       "</style>\n",
       "<table border=\"1\" class=\"dataframe\">\n",
       "  <thead>\n",
       "    <tr style=\"text-align: right;\">\n",
       "      <th></th>\n",
       "      <th>id</th>\n",
       "      <th>member_id</th>\n",
       "      <th>funded_amnt</th>\n",
       "      <th>term</th>\n",
       "      <th>int_rate</th>\n",
       "      <th>sub_grade</th>\n",
       "      <th>emp_title</th>\n",
       "      <th>emp_length</th>\n",
       "      <th>home_ownership</th>\n",
       "      <th>annual_inc</th>\n",
       "      <th>verification_status</th>\n",
       "      <th>pymnt_plan</th>\n",
       "      <th>purpose</th>\n",
       "      <th>title</th>\n",
       "      <th>addr_state</th>\n",
       "      <th>dti</th>\n",
       "      <th>delinq_2yrs</th>\n",
       "      <th>earliest_cr_line</th>\n",
       "      <th>fico_range_low</th>\n",
       "      <th>fico_range_high</th>\n",
       "      <th>inq_last_6mths</th>\n",
       "      <th>open_acc</th>\n",
       "      <th>pub_rec</th>\n",
       "      <th>revol_bal</th>\n",
       "      <th>revol_util</th>\n",
       "      <th>total_acc</th>\n",
       "      <th>last_fico_range_high</th>\n",
       "      <th>last_fico_range_low</th>\n",
       "      <th>pub_rec_bankruptcies</th>\n",
       "      <th>default_ind</th>\n",
       "    </tr>\n",
       "  </thead>\n",
       "  <tbody>\n",
       "    <tr>\n",
       "      <th>0</th>\n",
       "      <td>1077501</td>\n",
       "      <td>1296599.0</td>\n",
       "      <td>5000.0</td>\n",
       "      <td>36 months</td>\n",
       "      <td>10.65</td>\n",
       "      <td>7</td>\n",
       "      <td>NaN</td>\n",
       "      <td>10+ years</td>\n",
       "      <td>RENT</td>\n",
       "      <td>24000.0</td>\n",
       "      <td>Verified</td>\n",
       "      <td>n</td>\n",
       "      <td>credit_card</td>\n",
       "      <td>Computer</td>\n",
       "      <td>AZ</td>\n",
       "      <td>27.65</td>\n",
       "      <td>0.0</td>\n",
       "      <td>32</td>\n",
       "      <td>735.0</td>\n",
       "      <td>739.0</td>\n",
       "      <td>1.0</td>\n",
       "      <td>3.0</td>\n",
       "      <td>0.0</td>\n",
       "      <td>13648.0</td>\n",
       "      <td>83.7</td>\n",
       "      <td>9.0</td>\n",
       "      <td>744.0</td>\n",
       "      <td>740.0</td>\n",
       "      <td>0.0</td>\n",
       "      <td>0</td>\n",
       "    </tr>\n",
       "    <tr>\n",
       "      <th>1</th>\n",
       "      <td>1077430</td>\n",
       "      <td>1314167.0</td>\n",
       "      <td>2500.0</td>\n",
       "      <td>60 months</td>\n",
       "      <td>15.27</td>\n",
       "      <td>14</td>\n",
       "      <td>Ryder</td>\n",
       "      <td>&lt; 1 year</td>\n",
       "      <td>RENT</td>\n",
       "      <td>30000.0</td>\n",
       "      <td>Source Verified</td>\n",
       "      <td>n</td>\n",
       "      <td>car</td>\n",
       "      <td>bike</td>\n",
       "      <td>GA</td>\n",
       "      <td>1.00</td>\n",
       "      <td>0.0</td>\n",
       "      <td>18</td>\n",
       "      <td>740.0</td>\n",
       "      <td>744.0</td>\n",
       "      <td>5.0</td>\n",
       "      <td>3.0</td>\n",
       "      <td>0.0</td>\n",
       "      <td>1687.0</td>\n",
       "      <td>9.4</td>\n",
       "      <td>4.0</td>\n",
       "      <td>499.0</td>\n",
       "      <td>0.0</td>\n",
       "      <td>0.0</td>\n",
       "      <td>1</td>\n",
       "    </tr>\n",
       "    <tr>\n",
       "      <th>2</th>\n",
       "      <td>1077175</td>\n",
       "      <td>1313524.0</td>\n",
       "      <td>2400.0</td>\n",
       "      <td>36 months</td>\n",
       "      <td>15.96</td>\n",
       "      <td>15</td>\n",
       "      <td>NaN</td>\n",
       "      <td>10+ years</td>\n",
       "      <td>RENT</td>\n",
       "      <td>12252.0</td>\n",
       "      <td>Not Verified</td>\n",
       "      <td>n</td>\n",
       "      <td>small_business</td>\n",
       "      <td>real estate business</td>\n",
       "      <td>IL</td>\n",
       "      <td>8.72</td>\n",
       "      <td>0.0</td>\n",
       "      <td>16</td>\n",
       "      <td>735.0</td>\n",
       "      <td>739.0</td>\n",
       "      <td>2.0</td>\n",
       "      <td>2.0</td>\n",
       "      <td>0.0</td>\n",
       "      <td>2956.0</td>\n",
       "      <td>98.5</td>\n",
       "      <td>10.0</td>\n",
       "      <td>719.0</td>\n",
       "      <td>715.0</td>\n",
       "      <td>0.0</td>\n",
       "      <td>0</td>\n",
       "    </tr>\n",
       "  </tbody>\n",
       "</table>\n",
       "</div>"
      ],
      "text/plain": [
       "        id  member_id  funded_amnt        term  int_rate  sub_grade emp_title  \\\n",
       "0  1077501  1296599.0       5000.0   36 months     10.65          7       NaN   \n",
       "1  1077430  1314167.0       2500.0   60 months     15.27         14     Ryder   \n",
       "2  1077175  1313524.0       2400.0   36 months     15.96         15       NaN   \n",
       "\n",
       "  emp_length home_ownership  annual_inc verification_status pymnt_plan  \\\n",
       "0  10+ years           RENT     24000.0            Verified          n   \n",
       "1   < 1 year           RENT     30000.0     Source Verified          n   \n",
       "2  10+ years           RENT     12252.0        Not Verified          n   \n",
       "\n",
       "          purpose                 title addr_state    dti  delinq_2yrs  \\\n",
       "0     credit_card              Computer         AZ  27.65          0.0   \n",
       "1             car                  bike         GA   1.00          0.0   \n",
       "2  small_business  real estate business         IL   8.72          0.0   \n",
       "\n",
       "   earliest_cr_line  fico_range_low  fico_range_high  inq_last_6mths  \\\n",
       "0                32           735.0            739.0             1.0   \n",
       "1                18           740.0            744.0             5.0   \n",
       "2                16           735.0            739.0             2.0   \n",
       "\n",
       "   open_acc  pub_rec  revol_bal  revol_util  total_acc  last_fico_range_high  \\\n",
       "0       3.0      0.0    13648.0        83.7        9.0                 744.0   \n",
       "1       3.0      0.0     1687.0         9.4        4.0                 499.0   \n",
       "2       2.0      0.0     2956.0        98.5       10.0                 719.0   \n",
       "\n",
       "   last_fico_range_low  pub_rec_bankruptcies  default_ind  \n",
       "0                740.0                   0.0            0  \n",
       "1                  0.0                   0.0            1  \n",
       "2                715.0                   0.0            0  "
      ]
     },
     "execution_count": 77,
     "metadata": {},
     "output_type": "execute_result"
    }
   ],
   "source": [
    "#set display to show all columns in the dataframe\n",
    "pd.set_option('display.max_columns', None)\n",
    "\n",
    "# show first three rows of the loan_data dataframe\n",
    "loan_data.head(3)"
   ]
  },
  {
   "cell_type": "markdown",
   "metadata": {},
   "source": [
    "## <font color = 'green'>Data Cleaning</font>\n",
    "The following steps were taken to clean the data:\n",
    "- Create column for the average fico value which will act as a midpoint between the `fico_range_low` and `fico_range_high`. Having a midpoint (average) column will allow only one column to be used instead of the two high and low columns. \n",
    "- Create a midpoint (average) column for `last_fico_range_low` and `last_fico_range_high`. Also allows for only one column to be used to represent the same information rather than having two columns.\n",
    "- Deleting 'months' from the `term` column to make term a numeric value rather than character. \n",
    "- Create a function to clean the `emp_length` column and make it all numeric values with no text. The following numbers were used with their associated meanings in the `get_employmentlen()` function: \n",
    "    - 1: one or fewer years\n",
    "    - 2: two years\n",
    "    - 3: three years\n",
    "    - 4: four years\n",
    "    - 5: five years\n",
    "    - 6: six years\n",
    "    - 7: seven yeras\n",
    "    - 8: eight years\n",
    "    - 9: nine years\n",
    "    - 10: ten or more years\n",
    "- Clean the `purpose` categorical column by creating a function. The top three categories will be used and all other values will be assigned \"other\".\n",
    "- Clean the `home_ownership` categorical column by creating a function. The top two categories (RENT and MORTGAGE) will be used and all other values will be assigned \"other\"."
   ]
  },
  {
   "cell_type": "code",
   "execution_count": 78,
   "metadata": {
    "collapsed": true
   },
   "outputs": [],
   "source": [
    "#create an average of the two values in fico_range_low and fico_range_high titled fico_range_avg\n",
    "loan_data['fico_range_avg'] = (loan_data['fico_range_high'] + loan_data['fico_range_low'])/2"
   ]
  },
  {
   "cell_type": "code",
   "execution_count": 79,
   "metadata": {
    "collapsed": true
   },
   "outputs": [],
   "source": [
    "#create an average of the two values in last_fico_range_low and last_fico_range_high titled last_fico_range_avg\n",
    "loan_data['last_fico_range_avg'] = (loan_data['last_fico_range_high'] + loan_data['last_fico_range_low'])/2"
   ]
  },
  {
   "cell_type": "code",
   "execution_count": 80,
   "metadata": {},
   "outputs": [
    {
     "data": {
      "text/html": [
       "<div>\n",
       "<style scoped>\n",
       "    .dataframe tbody tr th:only-of-type {\n",
       "        vertical-align: middle;\n",
       "    }\n",
       "\n",
       "    .dataframe tbody tr th {\n",
       "        vertical-align: top;\n",
       "    }\n",
       "\n",
       "    .dataframe thead th {\n",
       "        text-align: right;\n",
       "    }\n",
       "</style>\n",
       "<table border=\"1\" class=\"dataframe\">\n",
       "  <thead>\n",
       "    <tr style=\"text-align: right;\">\n",
       "      <th></th>\n",
       "      <th>fico_range_low</th>\n",
       "      <th>fico_range_high</th>\n",
       "      <th>fico_range_avg</th>\n",
       "      <th>last_fico_range_low</th>\n",
       "      <th>last_fico_range_high</th>\n",
       "      <th>last_fico_range_avg</th>\n",
       "    </tr>\n",
       "  </thead>\n",
       "  <tbody>\n",
       "    <tr>\n",
       "      <th>0</th>\n",
       "      <td>735.0</td>\n",
       "      <td>739.0</td>\n",
       "      <td>737.0</td>\n",
       "      <td>740.0</td>\n",
       "      <td>744.0</td>\n",
       "      <td>742.0</td>\n",
       "    </tr>\n",
       "    <tr>\n",
       "      <th>1</th>\n",
       "      <td>740.0</td>\n",
       "      <td>744.0</td>\n",
       "      <td>742.0</td>\n",
       "      <td>0.0</td>\n",
       "      <td>499.0</td>\n",
       "      <td>249.5</td>\n",
       "    </tr>\n",
       "    <tr>\n",
       "      <th>2</th>\n",
       "      <td>735.0</td>\n",
       "      <td>739.0</td>\n",
       "      <td>737.0</td>\n",
       "      <td>715.0</td>\n",
       "      <td>719.0</td>\n",
       "      <td>717.0</td>\n",
       "    </tr>\n",
       "    <tr>\n",
       "      <th>3</th>\n",
       "      <td>690.0</td>\n",
       "      <td>694.0</td>\n",
       "      <td>692.0</td>\n",
       "      <td>600.0</td>\n",
       "      <td>604.0</td>\n",
       "      <td>602.0</td>\n",
       "    </tr>\n",
       "    <tr>\n",
       "      <th>4</th>\n",
       "      <td>695.0</td>\n",
       "      <td>699.0</td>\n",
       "      <td>697.0</td>\n",
       "      <td>690.0</td>\n",
       "      <td>694.0</td>\n",
       "      <td>692.0</td>\n",
       "    </tr>\n",
       "  </tbody>\n",
       "</table>\n",
       "</div>"
      ],
      "text/plain": [
       "   fico_range_low  fico_range_high  fico_range_avg  last_fico_range_low  \\\n",
       "0           735.0            739.0           737.0                740.0   \n",
       "1           740.0            744.0           742.0                  0.0   \n",
       "2           735.0            739.0           737.0                715.0   \n",
       "3           690.0            694.0           692.0                600.0   \n",
       "4           695.0            699.0           697.0                690.0   \n",
       "\n",
       "   last_fico_range_high  last_fico_range_avg  \n",
       "0                 744.0                742.0  \n",
       "1                 499.0                249.5  \n",
       "2                 719.0                717.0  \n",
       "3                 604.0                602.0  \n",
       "4                 694.0                692.0  "
      ]
     },
     "execution_count": 80,
     "metadata": {},
     "output_type": "execute_result"
    }
   ],
   "source": [
    "#look at the first five rows of just the fico related columns\n",
    "loan_data[['fico_range_low', 'fico_range_high', 'fico_range_avg',\n",
    "           'last_fico_range_low', 'last_fico_range_high', 'last_fico_range_avg']].head()"
   ]
  },
  {
   "cell_type": "code",
   "execution_count": 81,
   "metadata": {
    "collapsed": true
   },
   "outputs": [],
   "source": [
    "# delete 'months' from the term column \n",
    "loan_data['term'] = loan_data['term'].astype('str').str.extractall('(\\d+)').unstack().fillna('').sum(axis=1).astype(int)"
   ]
  },
  {
   "cell_type": "code",
   "execution_count": 82,
   "metadata": {},
   "outputs": [
    {
     "data": {
      "text/html": [
       "<div>\n",
       "<style scoped>\n",
       "    .dataframe tbody tr th:only-of-type {\n",
       "        vertical-align: middle;\n",
       "    }\n",
       "\n",
       "    .dataframe tbody tr th {\n",
       "        vertical-align: top;\n",
       "    }\n",
       "\n",
       "    .dataframe thead th {\n",
       "        text-align: right;\n",
       "    }\n",
       "</style>\n",
       "<table border=\"1\" class=\"dataframe\">\n",
       "  <thead>\n",
       "    <tr style=\"text-align: right;\">\n",
       "      <th></th>\n",
       "      <th>id</th>\n",
       "      <th>member_id</th>\n",
       "      <th>funded_amnt</th>\n",
       "      <th>term</th>\n",
       "      <th>int_rate</th>\n",
       "      <th>sub_grade</th>\n",
       "      <th>emp_title</th>\n",
       "      <th>emp_length</th>\n",
       "      <th>home_ownership</th>\n",
       "      <th>annual_inc</th>\n",
       "      <th>verification_status</th>\n",
       "      <th>pymnt_plan</th>\n",
       "      <th>purpose</th>\n",
       "      <th>title</th>\n",
       "      <th>addr_state</th>\n",
       "      <th>dti</th>\n",
       "      <th>delinq_2yrs</th>\n",
       "      <th>earliest_cr_line</th>\n",
       "      <th>fico_range_low</th>\n",
       "      <th>fico_range_high</th>\n",
       "      <th>inq_last_6mths</th>\n",
       "      <th>open_acc</th>\n",
       "      <th>pub_rec</th>\n",
       "      <th>revol_bal</th>\n",
       "      <th>revol_util</th>\n",
       "      <th>total_acc</th>\n",
       "      <th>last_fico_range_high</th>\n",
       "      <th>last_fico_range_low</th>\n",
       "      <th>pub_rec_bankruptcies</th>\n",
       "      <th>default_ind</th>\n",
       "      <th>fico_range_avg</th>\n",
       "      <th>last_fico_range_avg</th>\n",
       "    </tr>\n",
       "  </thead>\n",
       "  <tbody>\n",
       "    <tr>\n",
       "      <th>38908</th>\n",
       "      <td>433878</td>\n",
       "      <td>517193.0</td>\n",
       "      <td>11200.0</td>\n",
       "      <td>36</td>\n",
       "      <td>14.96</td>\n",
       "      <td>17</td>\n",
       "      <td>Norton Hospital</td>\n",
       "      <td>3 years</td>\n",
       "      <td>OTHER</td>\n",
       "      <td>47000.0</td>\n",
       "      <td>Not Verified</td>\n",
       "      <td>n</td>\n",
       "      <td>debt_consolidation</td>\n",
       "      <td>Consolidation Loan</td>\n",
       "      <td>KY</td>\n",
       "      <td>16.09</td>\n",
       "      <td>0.0</td>\n",
       "      <td>18</td>\n",
       "      <td>685.0</td>\n",
       "      <td>689.0</td>\n",
       "      <td>6.0</td>\n",
       "      <td>20.0</td>\n",
       "      <td>0.0</td>\n",
       "      <td>11005.0</td>\n",
       "      <td>37.2</td>\n",
       "      <td>43.0</td>\n",
       "      <td>624.0</td>\n",
       "      <td>620.0</td>\n",
       "      <td>0.0</td>\n",
       "      <td>1</td>\n",
       "      <td>687.0</td>\n",
       "      <td>622.0</td>\n",
       "    </tr>\n",
       "    <tr>\n",
       "      <th>20372</th>\n",
       "      <td>657410</td>\n",
       "      <td>840756.0</td>\n",
       "      <td>4000.0</td>\n",
       "      <td>60</td>\n",
       "      <td>13.06</td>\n",
       "      <td>12</td>\n",
       "      <td>NaN</td>\n",
       "      <td>4 years</td>\n",
       "      <td>RENT</td>\n",
       "      <td>15600.0</td>\n",
       "      <td>Not Verified</td>\n",
       "      <td>n</td>\n",
       "      <td>debt_consolidation</td>\n",
       "      <td>Debt Consolidation</td>\n",
       "      <td>CA</td>\n",
       "      <td>18.85</td>\n",
       "      <td>0.0</td>\n",
       "      <td>13</td>\n",
       "      <td>725.0</td>\n",
       "      <td>729.0</td>\n",
       "      <td>0.0</td>\n",
       "      <td>3.0</td>\n",
       "      <td>0.0</td>\n",
       "      <td>2735.0</td>\n",
       "      <td>94.3</td>\n",
       "      <td>6.0</td>\n",
       "      <td>694.0</td>\n",
       "      <td>690.0</td>\n",
       "      <td>0.0</td>\n",
       "      <td>0</td>\n",
       "      <td>727.0</td>\n",
       "      <td>692.0</td>\n",
       "    </tr>\n",
       "    <tr>\n",
       "      <th>15293</th>\n",
       "      <td>752188</td>\n",
       "      <td>951744.0</td>\n",
       "      <td>4000.0</td>\n",
       "      <td>60</td>\n",
       "      <td>12.99</td>\n",
       "      <td>11</td>\n",
       "      <td>OCM Lee Hecht Harrison</td>\n",
       "      <td>6 years</td>\n",
       "      <td>MORTGAGE</td>\n",
       "      <td>34000.0</td>\n",
       "      <td>Not Verified</td>\n",
       "      <td>n</td>\n",
       "      <td>credit_card</td>\n",
       "      <td>Credit Card Payoff</td>\n",
       "      <td>NV</td>\n",
       "      <td>20.86</td>\n",
       "      <td>0.0</td>\n",
       "      <td>16</td>\n",
       "      <td>690.0</td>\n",
       "      <td>694.0</td>\n",
       "      <td>0.0</td>\n",
       "      <td>6.0</td>\n",
       "      <td>1.0</td>\n",
       "      <td>4071.0</td>\n",
       "      <td>59.0</td>\n",
       "      <td>8.0</td>\n",
       "      <td>639.0</td>\n",
       "      <td>635.0</td>\n",
       "      <td>1.0</td>\n",
       "      <td>0</td>\n",
       "      <td>692.0</td>\n",
       "      <td>637.0</td>\n",
       "    </tr>\n",
       "  </tbody>\n",
       "</table>\n",
       "</div>"
      ],
      "text/plain": [
       "           id  member_id  funded_amnt  term  int_rate  sub_grade  \\\n",
       "38908  433878   517193.0      11200.0    36     14.96         17   \n",
       "20372  657410   840756.0       4000.0    60     13.06         12   \n",
       "15293  752188   951744.0       4000.0    60     12.99         11   \n",
       "\n",
       "                    emp_title emp_length home_ownership  annual_inc  \\\n",
       "38908         Norton Hospital    3 years          OTHER     47000.0   \n",
       "20372                     NaN    4 years           RENT     15600.0   \n",
       "15293  OCM Lee Hecht Harrison    6 years       MORTGAGE     34000.0   \n",
       "\n",
       "      verification_status pymnt_plan             purpose               title  \\\n",
       "38908        Not Verified          n  debt_consolidation  Consolidation Loan   \n",
       "20372        Not Verified          n  debt_consolidation  Debt Consolidation   \n",
       "15293        Not Verified          n         credit_card  Credit Card Payoff   \n",
       "\n",
       "      addr_state    dti  delinq_2yrs  earliest_cr_line  fico_range_low  \\\n",
       "38908         KY  16.09          0.0                18           685.0   \n",
       "20372         CA  18.85          0.0                13           725.0   \n",
       "15293         NV  20.86          0.0                16           690.0   \n",
       "\n",
       "       fico_range_high  inq_last_6mths  open_acc  pub_rec  revol_bal  \\\n",
       "38908            689.0             6.0      20.0      0.0    11005.0   \n",
       "20372            729.0             0.0       3.0      0.0     2735.0   \n",
       "15293            694.0             0.0       6.0      1.0     4071.0   \n",
       "\n",
       "       revol_util  total_acc  last_fico_range_high  last_fico_range_low  \\\n",
       "38908        37.2       43.0                 624.0                620.0   \n",
       "20372        94.3        6.0                 694.0                690.0   \n",
       "15293        59.0        8.0                 639.0                635.0   \n",
       "\n",
       "       pub_rec_bankruptcies  default_ind  fico_range_avg  last_fico_range_avg  \n",
       "38908                   0.0            1           687.0                622.0  \n",
       "20372                   0.0            0           727.0                692.0  \n",
       "15293                   1.0            0           692.0                637.0  "
      ]
     },
     "execution_count": 82,
     "metadata": {},
     "output_type": "execute_result"
    }
   ],
   "source": [
    "# use sample of three rows to confirm 'months' were deleted from term column\n",
    "loan_data.sample(3)"
   ]
  },
  {
   "cell_type": "code",
   "execution_count": 83,
   "metadata": {
    "collapsed": true
   },
   "outputs": [],
   "source": [
    "# make a function to convert emp_length to a numeric 0-10\n",
    "def get_employmentlen(length):\n",
    "    if length == '< 1 year':\n",
    "        return 0\n",
    "    elif length == '1 year':\n",
    "        return 1\n",
    "    elif length == '2 years':\n",
    "        return 2\n",
    "    elif length == '3 years':\n",
    "        return 3\n",
    "    elif length == '4 years':\n",
    "        return 4\n",
    "    elif length == '5 years':\n",
    "        return 5\n",
    "    elif length == '6 years':\n",
    "        return 6\n",
    "    elif length == '7 years':\n",
    "        return 7\n",
    "    elif length == '8 years':\n",
    "        return 8\n",
    "    elif length == '9 years':\n",
    "        return 9\n",
    "    elif length == '10+ years':\n",
    "        return 10"
   ]
  },
  {
   "cell_type": "code",
   "execution_count": 84,
   "metadata": {
    "collapsed": true
   },
   "outputs": [],
   "source": [
    "#apply the employment length function to the original 'emp_length' column\n",
    "loan_data['emp_length'] = loan_data['emp_length'].apply(get_employmentlen)"
   ]
  },
  {
   "cell_type": "code",
   "execution_count": 85,
   "metadata": {},
   "outputs": [
    {
     "data": {
      "text/plain": [
       "debt_consolidation    18593\n",
       "credit_card            4991\n",
       "other                  3973\n",
       "home_improvement       3023\n",
       "major_purchase         2210\n",
       "small_business         1809\n",
       "car                    1548\n",
       "wedding                 938\n",
       "medical                 693\n",
       "moving                  583\n",
       "house                   392\n",
       "vacation                382\n",
       "educational             301\n",
       "renewable_energy        103\n",
       "Name: purpose, dtype: int64"
      ]
     },
     "execution_count": 85,
     "metadata": {},
     "output_type": "execute_result"
    }
   ],
   "source": [
    "#check the number of values in the categorical 'purpose' column\n",
    "loan_data['purpose'].value_counts()"
   ]
  },
  {
   "cell_type": "code",
   "execution_count": 86,
   "metadata": {
    "collapsed": true
   },
   "outputs": [],
   "source": [
    "#create a function to have only top three purposes AND other category\n",
    "def clean_purpose(purp):\n",
    "    if purp == \"debt_consolidation\":\n",
    "        return 'debt_consolidation'\n",
    "    elif purp == \"credit_card\": \n",
    "        return 'credit_card'\n",
    "    elif purp == \"home_improvement\":\n",
    "        return 'home_improvement'\n",
    "    else:\n",
    "        return 'other'"
   ]
  },
  {
   "cell_type": "code",
   "execution_count": 87,
   "metadata": {
    "collapsed": true
   },
   "outputs": [],
   "source": [
    "#apply clean_purpose function to purpose category\n",
    "loan_data['purpose'] = loan_data['purpose'].apply(clean_purpose)"
   ]
  },
  {
   "cell_type": "code",
   "execution_count": 88,
   "metadata": {},
   "outputs": [
    {
     "data": {
      "text/plain": [
       "debt_consolidation    18593\n",
       "other                 12932\n",
       "credit_card            4991\n",
       "home_improvement       3023\n",
       "Name: purpose, dtype: int64"
      ]
     },
     "execution_count": 88,
     "metadata": {},
     "output_type": "execute_result"
    }
   ],
   "source": [
    "#confirm upadted values of purpose column\n",
    "loan_data['purpose'].value_counts()"
   ]
  },
  {
   "cell_type": "code",
   "execution_count": 89,
   "metadata": {},
   "outputs": [
    {
     "data": {
      "text/plain": [
       "RENT        18577\n",
       "MORTGAGE    17822\n",
       "OWN          3051\n",
       "OTHER          89\n",
       "Name: home_ownership, dtype: int64"
      ]
     },
     "execution_count": 89,
     "metadata": {},
     "output_type": "execute_result"
    }
   ],
   "source": [
    "#check value counts of home_ownership column\n",
    "loan_data['home_ownership'].value_counts()"
   ]
  },
  {
   "cell_type": "code",
   "execution_count": 90,
   "metadata": {
    "collapsed": true
   },
   "outputs": [],
   "source": [
    "#create function to clean the home_ownership column with RENT, MORTGAGE and OTHER values\n",
    "def clean_home_owner(home):\n",
    "    if home == \"RENT\":\n",
    "        return 'RENT'\n",
    "    elif home == \"MORTGAGE\": \n",
    "        return 'MORTGAGE'\n",
    "    else:\n",
    "        return 'OTHER'"
   ]
  },
  {
   "cell_type": "code",
   "execution_count": 91,
   "metadata": {
    "collapsed": true
   },
   "outputs": [],
   "source": [
    "#apply clean_home_owner function to home_ownership column\n",
    "loan_data['home_ownership'] = loan_data['home_ownership'].apply(clean_home_owner)"
   ]
  },
  {
   "cell_type": "code",
   "execution_count": 92,
   "metadata": {},
   "outputs": [
    {
     "data": {
      "text/plain": [
       "RENT        18577\n",
       "MORTGAGE    17822\n",
       "OTHER        3140\n",
       "Name: home_ownership, dtype: int64"
      ]
     },
     "execution_count": 92,
     "metadata": {},
     "output_type": "execute_result"
    }
   ],
   "source": [
    "#confirm only three categories within home_ownership column\n",
    "loan_data['home_ownership'].value_counts()"
   ]
  },
  {
   "cell_type": "code",
   "execution_count": 93,
   "metadata": {},
   "outputs": [
    {
     "data": {
      "text/plain": [
       "id                        int64\n",
       "member_id               float64\n",
       "funded_amnt             float64\n",
       "term                      int64\n",
       "int_rate                float64\n",
       "sub_grade                 int64\n",
       "emp_title                object\n",
       "emp_length              float64\n",
       "home_ownership           object\n",
       "annual_inc              float64\n",
       "verification_status      object\n",
       "pymnt_plan               object\n",
       "purpose                  object\n",
       "title                    object\n",
       "addr_state               object\n",
       "dti                     float64\n",
       "delinq_2yrs             float64\n",
       "earliest_cr_line          int64\n",
       "fico_range_low          float64\n",
       "fico_range_high         float64\n",
       "inq_last_6mths          float64\n",
       "open_acc                float64\n",
       "pub_rec                 float64\n",
       "revol_bal               float64\n",
       "revol_util              float64\n",
       "total_acc               float64\n",
       "last_fico_range_high    float64\n",
       "last_fico_range_low     float64\n",
       "pub_rec_bankruptcies    float64\n",
       "default_ind               int64\n",
       "fico_range_avg          float64\n",
       "last_fico_range_avg     float64\n",
       "dtype: object"
      ]
     },
     "execution_count": 93,
     "metadata": {},
     "output_type": "execute_result"
    }
   ],
   "source": [
    "#confirm data types\n",
    "loan_data.dtypes"
   ]
  },
  {
   "cell_type": "markdown",
   "metadata": {},
   "source": [
    "## <font color='green'> <u>Justification for Dropping Initial Columns</u></font>\n",
    "##### Dropped Columns: `id`, `member_id`,`addr_state`, `title`, `earliest_cr_line`, `emp_title` ,  `pymnt_plan`\n",
    "- <b> `id` </b>: The `id` is used to uniquely identify each loan, and this is not relevant to the analysis of creating a model to predict whether a requested loan will be defaulted. \n",
    "- <b> `member_id`</b>: The goal is to find commonalities that can be applied to all Lending Club users. `id` would punish existing customers who defaulted, and it would not be beneficial in the model for customers applying for first time.\n",
    "- <b> `addr_state` </b>: The `addr_state` column was dropped as including the column may be biased against states where there are many lending club members who default. Dropping the state column will prevent bias against people from specific states. \n",
    "- <b> `title` </b>: out of almost 40K rows, there are over 19K unique `title` values indiciating that the title is unlikely to be an important predictor given most of titles are different. \n",
    "- <b> `earliest_cr_line` </b>:  `earliest_cr_line` is dropped because it is simply the month that the earliest credit line was open.\n",
    "- <b> `emp_title` </b>: Out of almost 40K rows, there are over 28K unique employee titles thus suggesting there is not a significant pattern or relationship with `emp_title` and justifying removing the column. \n",
    "- <b> `pymnt_plan` </b>: payment plan is dropped because all but one value within the dataset is a 'n' value therefore it can be dropped. "
   ]
  },
  {
   "cell_type": "code",
   "execution_count": 94,
   "metadata": {
    "scrolled": true
   },
   "outputs": [
    {
     "data": {
      "text/html": [
       "<div>\n",
       "<style scoped>\n",
       "    .dataframe tbody tr th:only-of-type {\n",
       "        vertical-align: middle;\n",
       "    }\n",
       "\n",
       "    .dataframe tbody tr th {\n",
       "        vertical-align: top;\n",
       "    }\n",
       "\n",
       "    .dataframe thead th {\n",
       "        text-align: right;\n",
       "    }\n",
       "</style>\n",
       "<table border=\"1\" class=\"dataframe\">\n",
       "  <thead>\n",
       "    <tr style=\"text-align: right;\">\n",
       "      <th></th>\n",
       "      <th>funded_amnt</th>\n",
       "      <th>term</th>\n",
       "      <th>int_rate</th>\n",
       "      <th>sub_grade</th>\n",
       "      <th>emp_length</th>\n",
       "      <th>home_ownership</th>\n",
       "      <th>annual_inc</th>\n",
       "      <th>verification_status</th>\n",
       "      <th>purpose</th>\n",
       "      <th>dti</th>\n",
       "      <th>delinq_2yrs</th>\n",
       "      <th>fico_range_low</th>\n",
       "      <th>fico_range_high</th>\n",
       "      <th>inq_last_6mths</th>\n",
       "      <th>open_acc</th>\n",
       "      <th>pub_rec</th>\n",
       "      <th>revol_bal</th>\n",
       "      <th>revol_util</th>\n",
       "      <th>total_acc</th>\n",
       "      <th>last_fico_range_high</th>\n",
       "      <th>last_fico_range_low</th>\n",
       "      <th>pub_rec_bankruptcies</th>\n",
       "      <th>default_ind</th>\n",
       "      <th>fico_range_avg</th>\n",
       "      <th>last_fico_range_avg</th>\n",
       "    </tr>\n",
       "  </thead>\n",
       "  <tbody>\n",
       "    <tr>\n",
       "      <th>0</th>\n",
       "      <td>5000.0</td>\n",
       "      <td>36</td>\n",
       "      <td>10.65</td>\n",
       "      <td>7</td>\n",
       "      <td>10.0</td>\n",
       "      <td>RENT</td>\n",
       "      <td>24000.0</td>\n",
       "      <td>Verified</td>\n",
       "      <td>credit_card</td>\n",
       "      <td>27.65</td>\n",
       "      <td>0.0</td>\n",
       "      <td>735.0</td>\n",
       "      <td>739.0</td>\n",
       "      <td>1.0</td>\n",
       "      <td>3.0</td>\n",
       "      <td>0.0</td>\n",
       "      <td>13648.0</td>\n",
       "      <td>83.7</td>\n",
       "      <td>9.0</td>\n",
       "      <td>744.0</td>\n",
       "      <td>740.0</td>\n",
       "      <td>0.0</td>\n",
       "      <td>0</td>\n",
       "      <td>737.0</td>\n",
       "      <td>742.0</td>\n",
       "    </tr>\n",
       "    <tr>\n",
       "      <th>1</th>\n",
       "      <td>2500.0</td>\n",
       "      <td>60</td>\n",
       "      <td>15.27</td>\n",
       "      <td>14</td>\n",
       "      <td>0.0</td>\n",
       "      <td>RENT</td>\n",
       "      <td>30000.0</td>\n",
       "      <td>Source Verified</td>\n",
       "      <td>other</td>\n",
       "      <td>1.00</td>\n",
       "      <td>0.0</td>\n",
       "      <td>740.0</td>\n",
       "      <td>744.0</td>\n",
       "      <td>5.0</td>\n",
       "      <td>3.0</td>\n",
       "      <td>0.0</td>\n",
       "      <td>1687.0</td>\n",
       "      <td>9.4</td>\n",
       "      <td>4.0</td>\n",
       "      <td>499.0</td>\n",
       "      <td>0.0</td>\n",
       "      <td>0.0</td>\n",
       "      <td>1</td>\n",
       "      <td>742.0</td>\n",
       "      <td>249.5</td>\n",
       "    </tr>\n",
       "    <tr>\n",
       "      <th>2</th>\n",
       "      <td>2400.0</td>\n",
       "      <td>36</td>\n",
       "      <td>15.96</td>\n",
       "      <td>15</td>\n",
       "      <td>10.0</td>\n",
       "      <td>RENT</td>\n",
       "      <td>12252.0</td>\n",
       "      <td>Not Verified</td>\n",
       "      <td>other</td>\n",
       "      <td>8.72</td>\n",
       "      <td>0.0</td>\n",
       "      <td>735.0</td>\n",
       "      <td>739.0</td>\n",
       "      <td>2.0</td>\n",
       "      <td>2.0</td>\n",
       "      <td>0.0</td>\n",
       "      <td>2956.0</td>\n",
       "      <td>98.5</td>\n",
       "      <td>10.0</td>\n",
       "      <td>719.0</td>\n",
       "      <td>715.0</td>\n",
       "      <td>0.0</td>\n",
       "      <td>0</td>\n",
       "      <td>737.0</td>\n",
       "      <td>717.0</td>\n",
       "    </tr>\n",
       "    <tr>\n",
       "      <th>3</th>\n",
       "      <td>10000.0</td>\n",
       "      <td>36</td>\n",
       "      <td>13.49</td>\n",
       "      <td>11</td>\n",
       "      <td>10.0</td>\n",
       "      <td>RENT</td>\n",
       "      <td>49200.0</td>\n",
       "      <td>Source Verified</td>\n",
       "      <td>other</td>\n",
       "      <td>20.00</td>\n",
       "      <td>0.0</td>\n",
       "      <td>690.0</td>\n",
       "      <td>694.0</td>\n",
       "      <td>1.0</td>\n",
       "      <td>10.0</td>\n",
       "      <td>0.0</td>\n",
       "      <td>5598.0</td>\n",
       "      <td>21.0</td>\n",
       "      <td>37.0</td>\n",
       "      <td>604.0</td>\n",
       "      <td>600.0</td>\n",
       "      <td>0.0</td>\n",
       "      <td>0</td>\n",
       "      <td>692.0</td>\n",
       "      <td>602.0</td>\n",
       "    </tr>\n",
       "    <tr>\n",
       "      <th>4</th>\n",
       "      <td>3000.0</td>\n",
       "      <td>60</td>\n",
       "      <td>12.69</td>\n",
       "      <td>10</td>\n",
       "      <td>1.0</td>\n",
       "      <td>RENT</td>\n",
       "      <td>80000.0</td>\n",
       "      <td>Source Verified</td>\n",
       "      <td>other</td>\n",
       "      <td>17.94</td>\n",
       "      <td>0.0</td>\n",
       "      <td>695.0</td>\n",
       "      <td>699.0</td>\n",
       "      <td>0.0</td>\n",
       "      <td>15.0</td>\n",
       "      <td>0.0</td>\n",
       "      <td>27783.0</td>\n",
       "      <td>53.9</td>\n",
       "      <td>38.0</td>\n",
       "      <td>694.0</td>\n",
       "      <td>690.0</td>\n",
       "      <td>0.0</td>\n",
       "      <td>0</td>\n",
       "      <td>697.0</td>\n",
       "      <td>692.0</td>\n",
       "    </tr>\n",
       "  </tbody>\n",
       "</table>\n",
       "</div>"
      ],
      "text/plain": [
       "   funded_amnt  term  int_rate  sub_grade  emp_length home_ownership  \\\n",
       "0       5000.0    36     10.65          7        10.0           RENT   \n",
       "1       2500.0    60     15.27         14         0.0           RENT   \n",
       "2       2400.0    36     15.96         15        10.0           RENT   \n",
       "3      10000.0    36     13.49         11        10.0           RENT   \n",
       "4       3000.0    60     12.69         10         1.0           RENT   \n",
       "\n",
       "   annual_inc verification_status      purpose    dti  delinq_2yrs  \\\n",
       "0     24000.0            Verified  credit_card  27.65          0.0   \n",
       "1     30000.0     Source Verified        other   1.00          0.0   \n",
       "2     12252.0        Not Verified        other   8.72          0.0   \n",
       "3     49200.0     Source Verified        other  20.00          0.0   \n",
       "4     80000.0     Source Verified        other  17.94          0.0   \n",
       "\n",
       "   fico_range_low  fico_range_high  inq_last_6mths  open_acc  pub_rec  \\\n",
       "0           735.0            739.0             1.0       3.0      0.0   \n",
       "1           740.0            744.0             5.0       3.0      0.0   \n",
       "2           735.0            739.0             2.0       2.0      0.0   \n",
       "3           690.0            694.0             1.0      10.0      0.0   \n",
       "4           695.0            699.0             0.0      15.0      0.0   \n",
       "\n",
       "   revol_bal  revol_util  total_acc  last_fico_range_high  \\\n",
       "0    13648.0        83.7        9.0                 744.0   \n",
       "1     1687.0         9.4        4.0                 499.0   \n",
       "2     2956.0        98.5       10.0                 719.0   \n",
       "3     5598.0        21.0       37.0                 604.0   \n",
       "4    27783.0        53.9       38.0                 694.0   \n",
       "\n",
       "   last_fico_range_low  pub_rec_bankruptcies  default_ind  fico_range_avg  \\\n",
       "0                740.0                   0.0            0           737.0   \n",
       "1                  0.0                   0.0            1           742.0   \n",
       "2                715.0                   0.0            0           737.0   \n",
       "3                600.0                   0.0            0           692.0   \n",
       "4                690.0                   0.0            0           697.0   \n",
       "\n",
       "   last_fico_range_avg  \n",
       "0                742.0  \n",
       "1                249.5  \n",
       "2                717.0  \n",
       "3                602.0  \n",
       "4                692.0  "
      ]
     },
     "execution_count": 94,
     "metadata": {},
     "output_type": "execute_result"
    }
   ],
   "source": [
    "# drop catergorical and irrelvant columns\n",
    "loan_data.drop(['id', 'member_id','addr_state', 'title', 'earliest_cr_line', 'emp_title', 'pymnt_plan' ], axis=1, inplace=True)\n",
    "loan_data.head()"
   ]
  },
  {
   "cell_type": "code",
   "execution_count": 95,
   "metadata": {},
   "outputs": [],
   "source": [
    "#drop the fico lows and highs because the average column that was created encompasses these values already\n",
    "loan_data.drop(['fico_range_low', 'fico_range_high','last_fico_range_low', 'last_fico_range_high'], axis=1, inplace=True)"
   ]
  },
  {
   "cell_type": "code",
   "execution_count": 96,
   "metadata": {},
   "outputs": [
    {
     "data": {
      "text/html": [
       "<div>\n",
       "<style scoped>\n",
       "    .dataframe tbody tr th:only-of-type {\n",
       "        vertical-align: middle;\n",
       "    }\n",
       "\n",
       "    .dataframe tbody tr th {\n",
       "        vertical-align: top;\n",
       "    }\n",
       "\n",
       "    .dataframe thead th {\n",
       "        text-align: right;\n",
       "    }\n",
       "</style>\n",
       "<table border=\"1\" class=\"dataframe\">\n",
       "  <thead>\n",
       "    <tr style=\"text-align: right;\">\n",
       "      <th></th>\n",
       "      <th>funded_amnt</th>\n",
       "      <th>term</th>\n",
       "      <th>int_rate</th>\n",
       "      <th>sub_grade</th>\n",
       "      <th>emp_length</th>\n",
       "      <th>home_ownership</th>\n",
       "      <th>annual_inc</th>\n",
       "      <th>verification_status</th>\n",
       "      <th>purpose</th>\n",
       "      <th>dti</th>\n",
       "      <th>delinq_2yrs</th>\n",
       "      <th>inq_last_6mths</th>\n",
       "      <th>open_acc</th>\n",
       "      <th>pub_rec</th>\n",
       "      <th>revol_bal</th>\n",
       "      <th>revol_util</th>\n",
       "      <th>total_acc</th>\n",
       "      <th>pub_rec_bankruptcies</th>\n",
       "      <th>default_ind</th>\n",
       "      <th>fico_range_avg</th>\n",
       "      <th>last_fico_range_avg</th>\n",
       "    </tr>\n",
       "  </thead>\n",
       "  <tbody>\n",
       "    <tr>\n",
       "      <th>0</th>\n",
       "      <td>5000.0</td>\n",
       "      <td>36</td>\n",
       "      <td>10.65</td>\n",
       "      <td>7</td>\n",
       "      <td>10.0</td>\n",
       "      <td>RENT</td>\n",
       "      <td>24000.0</td>\n",
       "      <td>Verified</td>\n",
       "      <td>credit_card</td>\n",
       "      <td>27.65</td>\n",
       "      <td>0.0</td>\n",
       "      <td>1.0</td>\n",
       "      <td>3.0</td>\n",
       "      <td>0.0</td>\n",
       "      <td>13648.0</td>\n",
       "      <td>83.7</td>\n",
       "      <td>9.0</td>\n",
       "      <td>0.0</td>\n",
       "      <td>0</td>\n",
       "      <td>737.0</td>\n",
       "      <td>742.0</td>\n",
       "    </tr>\n",
       "    <tr>\n",
       "      <th>1</th>\n",
       "      <td>2500.0</td>\n",
       "      <td>60</td>\n",
       "      <td>15.27</td>\n",
       "      <td>14</td>\n",
       "      <td>0.0</td>\n",
       "      <td>RENT</td>\n",
       "      <td>30000.0</td>\n",
       "      <td>Source Verified</td>\n",
       "      <td>other</td>\n",
       "      <td>1.00</td>\n",
       "      <td>0.0</td>\n",
       "      <td>5.0</td>\n",
       "      <td>3.0</td>\n",
       "      <td>0.0</td>\n",
       "      <td>1687.0</td>\n",
       "      <td>9.4</td>\n",
       "      <td>4.0</td>\n",
       "      <td>0.0</td>\n",
       "      <td>1</td>\n",
       "      <td>742.0</td>\n",
       "      <td>249.5</td>\n",
       "    </tr>\n",
       "    <tr>\n",
       "      <th>2</th>\n",
       "      <td>2400.0</td>\n",
       "      <td>36</td>\n",
       "      <td>15.96</td>\n",
       "      <td>15</td>\n",
       "      <td>10.0</td>\n",
       "      <td>RENT</td>\n",
       "      <td>12252.0</td>\n",
       "      <td>Not Verified</td>\n",
       "      <td>other</td>\n",
       "      <td>8.72</td>\n",
       "      <td>0.0</td>\n",
       "      <td>2.0</td>\n",
       "      <td>2.0</td>\n",
       "      <td>0.0</td>\n",
       "      <td>2956.0</td>\n",
       "      <td>98.5</td>\n",
       "      <td>10.0</td>\n",
       "      <td>0.0</td>\n",
       "      <td>0</td>\n",
       "      <td>737.0</td>\n",
       "      <td>717.0</td>\n",
       "    </tr>\n",
       "    <tr>\n",
       "      <th>3</th>\n",
       "      <td>10000.0</td>\n",
       "      <td>36</td>\n",
       "      <td>13.49</td>\n",
       "      <td>11</td>\n",
       "      <td>10.0</td>\n",
       "      <td>RENT</td>\n",
       "      <td>49200.0</td>\n",
       "      <td>Source Verified</td>\n",
       "      <td>other</td>\n",
       "      <td>20.00</td>\n",
       "      <td>0.0</td>\n",
       "      <td>1.0</td>\n",
       "      <td>10.0</td>\n",
       "      <td>0.0</td>\n",
       "      <td>5598.0</td>\n",
       "      <td>21.0</td>\n",
       "      <td>37.0</td>\n",
       "      <td>0.0</td>\n",
       "      <td>0</td>\n",
       "      <td>692.0</td>\n",
       "      <td>602.0</td>\n",
       "    </tr>\n",
       "    <tr>\n",
       "      <th>4</th>\n",
       "      <td>3000.0</td>\n",
       "      <td>60</td>\n",
       "      <td>12.69</td>\n",
       "      <td>10</td>\n",
       "      <td>1.0</td>\n",
       "      <td>RENT</td>\n",
       "      <td>80000.0</td>\n",
       "      <td>Source Verified</td>\n",
       "      <td>other</td>\n",
       "      <td>17.94</td>\n",
       "      <td>0.0</td>\n",
       "      <td>0.0</td>\n",
       "      <td>15.0</td>\n",
       "      <td>0.0</td>\n",
       "      <td>27783.0</td>\n",
       "      <td>53.9</td>\n",
       "      <td>38.0</td>\n",
       "      <td>0.0</td>\n",
       "      <td>0</td>\n",
       "      <td>697.0</td>\n",
       "      <td>692.0</td>\n",
       "    </tr>\n",
       "  </tbody>\n",
       "</table>\n",
       "</div>"
      ],
      "text/plain": [
       "   funded_amnt  term  int_rate  sub_grade  emp_length home_ownership  \\\n",
       "0       5000.0    36     10.65          7        10.0           RENT   \n",
       "1       2500.0    60     15.27         14         0.0           RENT   \n",
       "2       2400.0    36     15.96         15        10.0           RENT   \n",
       "3      10000.0    36     13.49         11        10.0           RENT   \n",
       "4       3000.0    60     12.69         10         1.0           RENT   \n",
       "\n",
       "   annual_inc verification_status      purpose    dti  delinq_2yrs  \\\n",
       "0     24000.0            Verified  credit_card  27.65          0.0   \n",
       "1     30000.0     Source Verified        other   1.00          0.0   \n",
       "2     12252.0        Not Verified        other   8.72          0.0   \n",
       "3     49200.0     Source Verified        other  20.00          0.0   \n",
       "4     80000.0     Source Verified        other  17.94          0.0   \n",
       "\n",
       "   inq_last_6mths  open_acc  pub_rec  revol_bal  revol_util  total_acc  \\\n",
       "0             1.0       3.0      0.0    13648.0        83.7        9.0   \n",
       "1             5.0       3.0      0.0     1687.0         9.4        4.0   \n",
       "2             2.0       2.0      0.0     2956.0        98.5       10.0   \n",
       "3             1.0      10.0      0.0     5598.0        21.0       37.0   \n",
       "4             0.0      15.0      0.0    27783.0        53.9       38.0   \n",
       "\n",
       "   pub_rec_bankruptcies  default_ind  fico_range_avg  last_fico_range_avg  \n",
       "0                   0.0            0           737.0                742.0  \n",
       "1                   0.0            1           742.0                249.5  \n",
       "2                   0.0            0           737.0                717.0  \n",
       "3                   0.0            0           692.0                602.0  \n",
       "4                   0.0            0           697.0                692.0  "
      ]
     },
     "execution_count": 96,
     "metadata": {},
     "output_type": "execute_result"
    }
   ],
   "source": [
    "loan_data.head()"
   ]
  },
  {
   "cell_type": "markdown",
   "metadata": {},
   "source": [
    "## <font color='green'> <u>Identifying Additional Columns to Drop</u></font>"
   ]
  },
  {
   "cell_type": "code",
   "execution_count": 97,
   "metadata": {},
   "outputs": [
    {
     "data": {
      "text/html": [
       "<div>\n",
       "<style scoped>\n",
       "    .dataframe tbody tr th:only-of-type {\n",
       "        vertical-align: middle;\n",
       "    }\n",
       "\n",
       "    .dataframe tbody tr th {\n",
       "        vertical-align: top;\n",
       "    }\n",
       "\n",
       "    .dataframe thead th {\n",
       "        text-align: right;\n",
       "    }\n",
       "</style>\n",
       "<table border=\"1\" class=\"dataframe\">\n",
       "  <thead>\n",
       "    <tr style=\"text-align: right;\">\n",
       "      <th></th>\n",
       "      <th>funded_amnt</th>\n",
       "      <th>term</th>\n",
       "      <th>int_rate</th>\n",
       "      <th>sub_grade</th>\n",
       "      <th>emp_length</th>\n",
       "      <th>annual_inc</th>\n",
       "      <th>dti</th>\n",
       "      <th>delinq_2yrs</th>\n",
       "      <th>inq_last_6mths</th>\n",
       "      <th>open_acc</th>\n",
       "      <th>pub_rec</th>\n",
       "      <th>revol_bal</th>\n",
       "      <th>revol_util</th>\n",
       "      <th>total_acc</th>\n",
       "      <th>pub_rec_bankruptcies</th>\n",
       "      <th>default_ind</th>\n",
       "      <th>fico_range_avg</th>\n",
       "      <th>last_fico_range_avg</th>\n",
       "    </tr>\n",
       "  </thead>\n",
       "  <tbody>\n",
       "    <tr>\n",
       "      <th>0</th>\n",
       "      <td>5000.0</td>\n",
       "      <td>36</td>\n",
       "      <td>10.65</td>\n",
       "      <td>7</td>\n",
       "      <td>10.0</td>\n",
       "      <td>24000.0</td>\n",
       "      <td>27.65</td>\n",
       "      <td>0.0</td>\n",
       "      <td>1.0</td>\n",
       "      <td>3.0</td>\n",
       "      <td>0.0</td>\n",
       "      <td>13648.0</td>\n",
       "      <td>83.7</td>\n",
       "      <td>9.0</td>\n",
       "      <td>0.0</td>\n",
       "      <td>0</td>\n",
       "      <td>737.0</td>\n",
       "      <td>742.0</td>\n",
       "    </tr>\n",
       "    <tr>\n",
       "      <th>1</th>\n",
       "      <td>2500.0</td>\n",
       "      <td>60</td>\n",
       "      <td>15.27</td>\n",
       "      <td>14</td>\n",
       "      <td>0.0</td>\n",
       "      <td>30000.0</td>\n",
       "      <td>1.00</td>\n",
       "      <td>0.0</td>\n",
       "      <td>5.0</td>\n",
       "      <td>3.0</td>\n",
       "      <td>0.0</td>\n",
       "      <td>1687.0</td>\n",
       "      <td>9.4</td>\n",
       "      <td>4.0</td>\n",
       "      <td>0.0</td>\n",
       "      <td>1</td>\n",
       "      <td>742.0</td>\n",
       "      <td>249.5</td>\n",
       "    </tr>\n",
       "  </tbody>\n",
       "</table>\n",
       "</div>"
      ],
      "text/plain": [
       "   funded_amnt  term  int_rate  sub_grade  emp_length  annual_inc    dti  \\\n",
       "0       5000.0    36     10.65          7        10.0     24000.0  27.65   \n",
       "1       2500.0    60     15.27         14         0.0     30000.0   1.00   \n",
       "\n",
       "   delinq_2yrs  inq_last_6mths  open_acc  pub_rec  revol_bal  revol_util  \\\n",
       "0          0.0             1.0       3.0      0.0    13648.0        83.7   \n",
       "1          0.0             5.0       3.0      0.0     1687.0         9.4   \n",
       "\n",
       "   total_acc  pub_rec_bankruptcies  default_ind  fico_range_avg  \\\n",
       "0        9.0                   0.0            0           737.0   \n",
       "1        4.0                   0.0            1           742.0   \n",
       "\n",
       "   last_fico_range_avg  \n",
       "0                742.0  \n",
       "1                249.5  "
      ]
     },
     "execution_count": 97,
     "metadata": {},
     "output_type": "execute_result"
    }
   ],
   "source": [
    "#retrieve only numeric columns to allow for correlation analysis \n",
    "numeric_cols = loan_data.drop(['home_ownership', 'verification_status', 'purpose'], axis = 1)\n",
    "numeric_cols.head(2)"
   ]
  },
  {
   "cell_type": "code",
   "execution_count": 98,
   "metadata": {},
   "outputs": [
    {
     "data": {
      "image/png": "[encoded data removed]",
      "text/plain": [
       "<Figure size 1440x1440 with 2 Axes>"
      ]
     },
     "metadata": {
      "needs_background": "light"
     },
     "output_type": "display_data"
    }
   ],
   "source": [
    "#create a correlation matrix with all numeric columns\n",
    "corr_matrix=numeric_cols.corr()\n",
    "\n",
    "figure, axes = plt.subplots(figsize=(20,20))\n",
    "sns.heatmap(corr_matrix, annot=True, vmax=1, vmin=-1, square=True, cmap=\"Blues\")\n",
    "axes.set_title(\"Correlation Matrix Among Numeric Columns in Loan_Data\", size = 30);"
   ]
  },
  {
   "cell_type": "markdown",
   "metadata": {},
   "source": [
    "### <font color='green'> Highly-Correlated Columns </font>\n",
    "- <b> `int_rate`</b> & <b>`sub_grade` </b> : correlation = 0.96\n",
    "- <b> `pub_rec` </b> & <b>`pub_rec_bankruptcies`</b> : correlation = 0.84\n",
    "- <b> `open_acc` </b> & <b>`total_acc`</b>: correlation = 0.69\n",
    "\n",
    "##### Due to the high correlation among these variables (all above .65), one of the variables should be dropped. \n",
    "\n",
    "**Dropped** Variables:\n",
    "- int_rate \n",
    "- pub_rec\n",
    "- open_acc\n",
    "\n",
    "**Kept** Variables:\n",
    "- sub_grade\n",
    "- pub_rec_bankruptcies\n",
    "- total_acc\n",
    "\n",
    "**Reasoning:** we decided to drop int_rate and keep sub_grade, since sub_grade grade the loans so more than one factor is taken into consideration, while int_rate only analyze the loan from one perspective, thus we believe sub_grade provides better insight into the model. Pub_rec_bankrupticies was preferred because we are trying to predict loan default, therefore we want to focus on the final aspect of the loan. Finally, total_acc was chosen since it provides the current total number of credit lines and we believe having more recent information is more important to the model"
   ]
  },
  {
   "cell_type": "code",
   "execution_count": 99,
   "metadata": {
    "collapsed": true
   },
   "outputs": [],
   "source": [
    "# drop highly-correlated columns\n",
    "loan_data.drop(['int_rate', 'pub_rec', 'open_acc'], axis=1, inplace = True)"
   ]
  },
  {
   "cell_type": "markdown",
   "metadata": {},
   "source": [
    "## <font color='green'> <u>Justification for Dropping NA Values</u></font>\n",
    "There are 1158 rows with NA values, which is less than 3% of all values in the dataset.  Dropping these rows will not make a significant difference. Additionally, 1112 of the NA values are in the `emp_length` column. Although filling NA values with a median or mean value is another option to deal with null values, it is not appropriate in this case because of the `emp_length` values. For example, 1 stands for one year or less and 10 stands for 10 or more years. Therefore, an accurate mean cannot be calculated on the `emp_length` column. For these reasons, it is justified to drop the rows containing NA values. "
   ]
  },
  {
   "cell_type": "code",
   "execution_count": 100,
   "metadata": {},
   "outputs": [
    {
     "data": {
      "text/plain": [
       "1158"
      ]
     },
     "execution_count": 100,
     "metadata": {},
     "output_type": "execute_result"
    }
   ],
   "source": [
    "#count the number of rows with null values\n",
    "loan_data.isna().any(axis=1).sum()"
   ]
  },
  {
   "cell_type": "code",
   "execution_count": 101,
   "metadata": {
    "collapsed": true
   },
   "outputs": [],
   "source": [
    "loan_data = loan_data.dropna()"
   ]
  },
  {
   "cell_type": "code",
   "execution_count": 102,
   "metadata": {},
   "outputs": [
    {
     "data": {
      "text/plain": [
       "38381"
      ]
     },
     "execution_count": 102,
     "metadata": {},
     "output_type": "execute_result"
    }
   ],
   "source": [
    "#confirm only 1158 rows were dropped\n",
    "len(loan_data) "
   ]
  },
  {
   "cell_type": "code",
   "execution_count": 103,
   "metadata": {},
   "outputs": [
    {
     "data": {
      "text/html": [
       "<div>\n",
       "<style scoped>\n",
       "    .dataframe tbody tr th:only-of-type {\n",
       "        vertical-align: middle;\n",
       "    }\n",
       "\n",
       "    .dataframe tbody tr th {\n",
       "        vertical-align: top;\n",
       "    }\n",
       "\n",
       "    .dataframe thead th {\n",
       "        text-align: right;\n",
       "    }\n",
       "</style>\n",
       "<table border=\"1\" class=\"dataframe\">\n",
       "  <thead>\n",
       "    <tr style=\"text-align: right;\">\n",
       "      <th></th>\n",
       "      <th>funded_amnt</th>\n",
       "      <th>term</th>\n",
       "      <th>sub_grade</th>\n",
       "      <th>emp_length</th>\n",
       "      <th>home_ownership</th>\n",
       "      <th>annual_inc</th>\n",
       "      <th>verification_status</th>\n",
       "      <th>purpose</th>\n",
       "      <th>dti</th>\n",
       "      <th>delinq_2yrs</th>\n",
       "      <th>inq_last_6mths</th>\n",
       "      <th>revol_bal</th>\n",
       "      <th>revol_util</th>\n",
       "      <th>total_acc</th>\n",
       "      <th>pub_rec_bankruptcies</th>\n",
       "      <th>default_ind</th>\n",
       "      <th>fico_range_avg</th>\n",
       "      <th>last_fico_range_avg</th>\n",
       "    </tr>\n",
       "  </thead>\n",
       "  <tbody>\n",
       "    <tr>\n",
       "      <th>0</th>\n",
       "      <td>5000.0</td>\n",
       "      <td>36</td>\n",
       "      <td>7</td>\n",
       "      <td>10.0</td>\n",
       "      <td>RENT</td>\n",
       "      <td>24000.0</td>\n",
       "      <td>Verified</td>\n",
       "      <td>credit_card</td>\n",
       "      <td>27.65</td>\n",
       "      <td>0.0</td>\n",
       "      <td>1.0</td>\n",
       "      <td>13648.0</td>\n",
       "      <td>83.7</td>\n",
       "      <td>9.0</td>\n",
       "      <td>0.0</td>\n",
       "      <td>0</td>\n",
       "      <td>737.0</td>\n",
       "      <td>742.0</td>\n",
       "    </tr>\n",
       "    <tr>\n",
       "      <th>1</th>\n",
       "      <td>2500.0</td>\n",
       "      <td>60</td>\n",
       "      <td>14</td>\n",
       "      <td>0.0</td>\n",
       "      <td>RENT</td>\n",
       "      <td>30000.0</td>\n",
       "      <td>Source Verified</td>\n",
       "      <td>other</td>\n",
       "      <td>1.00</td>\n",
       "      <td>0.0</td>\n",
       "      <td>5.0</td>\n",
       "      <td>1687.0</td>\n",
       "      <td>9.4</td>\n",
       "      <td>4.0</td>\n",
       "      <td>0.0</td>\n",
       "      <td>1</td>\n",
       "      <td>742.0</td>\n",
       "      <td>249.5</td>\n",
       "    </tr>\n",
       "  </tbody>\n",
       "</table>\n",
       "</div>"
      ],
      "text/plain": [
       "   funded_amnt  term  sub_grade  emp_length home_ownership  annual_inc  \\\n",
       "0       5000.0    36          7        10.0           RENT     24000.0   \n",
       "1       2500.0    60         14         0.0           RENT     30000.0   \n",
       "\n",
       "  verification_status      purpose    dti  delinq_2yrs  inq_last_6mths  \\\n",
       "0            Verified  credit_card  27.65          0.0             1.0   \n",
       "1     Source Verified        other   1.00          0.0             5.0   \n",
       "\n",
       "   revol_bal  revol_util  total_acc  pub_rec_bankruptcies  default_ind  \\\n",
       "0    13648.0        83.7        9.0                   0.0            0   \n",
       "1     1687.0         9.4        4.0                   0.0            1   \n",
       "\n",
       "   fico_range_avg  last_fico_range_avg  \n",
       "0           737.0                742.0  \n",
       "1           742.0                249.5  "
      ]
     },
     "execution_count": 103,
     "metadata": {},
     "output_type": "execute_result"
    }
   ],
   "source": [
    "loan_data.head(2)"
   ]
  },
  {
   "cell_type": "markdown",
   "metadata": {},
   "source": [
    "## <font color='green'> <u>Create Dummy Variables</u></font>\n",
    "\n",
    "Dummy columns were created for the categorical values. After cleaning, only the **`home_ownership`, `verification_status`, **and** `purpose`** columns required dummies. Once the dummies were created, the column representing the most common value was dropped and used as the baseline. For example, 'RENT' was the most popular value in the `home_ownership` column, so the `home_ownership_RENT` column was dropped and used as the baseline for `home_ownership`. "
   ]
  },
  {
   "cell_type": "code",
   "execution_count": 104,
   "metadata": {},
   "outputs": [
    {
     "data": {
      "text/plain": [
       "RENT        18122\n",
       "MORTGAGE    17345\n",
       "OTHER        2914\n",
       "Name: home_ownership, dtype: int64"
      ]
     },
     "execution_count": 104,
     "metadata": {},
     "output_type": "execute_result"
    }
   ],
   "source": [
    "loan_data['home_ownership'].value_counts()\n",
    "#want to have \"RENT\" as baseline"
   ]
  },
  {
   "cell_type": "code",
   "execution_count": 105,
   "metadata": {},
   "outputs": [
    {
     "data": {
      "text/plain": [
       "Not Verified       15643\n",
       "Verified           12667\n",
       "Source Verified    10071\n",
       "Name: verification_status, dtype: int64"
      ]
     },
     "execution_count": 105,
     "metadata": {},
     "output_type": "execute_result"
    }
   ],
   "source": [
    "loan_data['verification_status'].value_counts()\n",
    "#want to have \"Not Verified\" as baseline"
   ]
  },
  {
   "cell_type": "code",
   "execution_count": 106,
   "metadata": {},
   "outputs": [
    {
     "data": {
      "text/plain": [
       "debt_consolidation    18170\n",
       "other                 12436\n",
       "credit_card            4855\n",
       "home_improvement       2920\n",
       "Name: purpose, dtype: int64"
      ]
     },
     "execution_count": 106,
     "metadata": {},
     "output_type": "execute_result"
    }
   ],
   "source": [
    "loan_data['purpose'].value_counts()\n",
    "#want to have \"debt_consolidation\" as baseline"
   ]
  },
  {
   "cell_type": "code",
   "execution_count": 107,
   "metadata": {},
   "outputs": [
    {
     "data": {
      "text/plain": [
       "funded_amnt                            float64\n",
       "term                                     int64\n",
       "sub_grade                                int64\n",
       "emp_length                             float64\n",
       "annual_inc                             float64\n",
       "dti                                    float64\n",
       "delinq_2yrs                            float64\n",
       "inq_last_6mths                         float64\n",
       "revol_bal                              float64\n",
       "revol_util                             float64\n",
       "total_acc                              float64\n",
       "pub_rec_bankruptcies                   float64\n",
       "default_ind                              int64\n",
       "fico_range_avg                         float64\n",
       "last_fico_range_avg                    float64\n",
       "home_ownership_MORTGAGE                  uint8\n",
       "home_ownership_OTHER                     uint8\n",
       "home_ownership_RENT                      uint8\n",
       "verification_status_Not Verified         uint8\n",
       "verification_status_Source Verified      uint8\n",
       "verification_status_Verified             uint8\n",
       "purpose_credit_card                      uint8\n",
       "purpose_debt_consolidation               uint8\n",
       "purpose_home_improvement                 uint8\n",
       "purpose_other                            uint8\n",
       "dtype: object"
      ]
     },
     "execution_count": 107,
     "metadata": {},
     "output_type": "execute_result"
    }
   ],
   "source": [
    "#Get dummies\n",
    "loan_data_with_dummies = pd.get_dummies(loan_data)\n",
    "loan_data_with_dummies.dtypes"
   ]
  },
  {
   "cell_type": "code",
   "execution_count": 108,
   "metadata": {
    "collapsed": true
   },
   "outputs": [],
   "source": [
    "#drop the most popular column as the baseline\n",
    "loan_data_with_dummies.drop(['home_ownership_RENT', 'verification_status_Not Verified', 'purpose_debt_consolidation'],\n",
    "                            axis=1, inplace=True)"
   ]
  },
  {
   "cell_type": "code",
   "execution_count": 109,
   "metadata": {},
   "outputs": [
    {
     "data": {
      "text/html": [
       "<div>\n",
       "<style scoped>\n",
       "    .dataframe tbody tr th:only-of-type {\n",
       "        vertical-align: middle;\n",
       "    }\n",
       "\n",
       "    .dataframe tbody tr th {\n",
       "        vertical-align: top;\n",
       "    }\n",
       "\n",
       "    .dataframe thead th {\n",
       "        text-align: right;\n",
       "    }\n",
       "</style>\n",
       "<table border=\"1\" class=\"dataframe\">\n",
       "  <thead>\n",
       "    <tr style=\"text-align: right;\">\n",
       "      <th></th>\n",
       "      <th>funded_amnt</th>\n",
       "      <th>term</th>\n",
       "      <th>sub_grade</th>\n",
       "      <th>emp_length</th>\n",
       "      <th>annual_inc</th>\n",
       "      <th>dti</th>\n",
       "      <th>delinq_2yrs</th>\n",
       "      <th>inq_last_6mths</th>\n",
       "      <th>revol_bal</th>\n",
       "      <th>revol_util</th>\n",
       "      <th>total_acc</th>\n",
       "      <th>pub_rec_bankruptcies</th>\n",
       "      <th>default_ind</th>\n",
       "      <th>fico_range_avg</th>\n",
       "      <th>last_fico_range_avg</th>\n",
       "      <th>home_ownership_MORTGAGE</th>\n",
       "      <th>home_ownership_OTHER</th>\n",
       "      <th>verification_status_Source Verified</th>\n",
       "      <th>verification_status_Verified</th>\n",
       "      <th>purpose_credit_card</th>\n",
       "      <th>purpose_home_improvement</th>\n",
       "      <th>purpose_other</th>\n",
       "    </tr>\n",
       "  </thead>\n",
       "  <tbody>\n",
       "    <tr>\n",
       "      <th>0</th>\n",
       "      <td>5000.0</td>\n",
       "      <td>36</td>\n",
       "      <td>7</td>\n",
       "      <td>10.0</td>\n",
       "      <td>24000.0</td>\n",
       "      <td>27.65</td>\n",
       "      <td>0.0</td>\n",
       "      <td>1.0</td>\n",
       "      <td>13648.0</td>\n",
       "      <td>83.7</td>\n",
       "      <td>9.0</td>\n",
       "      <td>0.0</td>\n",
       "      <td>0</td>\n",
       "      <td>737.0</td>\n",
       "      <td>742.0</td>\n",
       "      <td>0</td>\n",
       "      <td>0</td>\n",
       "      <td>0</td>\n",
       "      <td>1</td>\n",
       "      <td>1</td>\n",
       "      <td>0</td>\n",
       "      <td>0</td>\n",
       "    </tr>\n",
       "    <tr>\n",
       "      <th>1</th>\n",
       "      <td>2500.0</td>\n",
       "      <td>60</td>\n",
       "      <td>14</td>\n",
       "      <td>0.0</td>\n",
       "      <td>30000.0</td>\n",
       "      <td>1.00</td>\n",
       "      <td>0.0</td>\n",
       "      <td>5.0</td>\n",
       "      <td>1687.0</td>\n",
       "      <td>9.4</td>\n",
       "      <td>4.0</td>\n",
       "      <td>0.0</td>\n",
       "      <td>1</td>\n",
       "      <td>742.0</td>\n",
       "      <td>249.5</td>\n",
       "      <td>0</td>\n",
       "      <td>0</td>\n",
       "      <td>1</td>\n",
       "      <td>0</td>\n",
       "      <td>0</td>\n",
       "      <td>0</td>\n",
       "      <td>1</td>\n",
       "    </tr>\n",
       "  </tbody>\n",
       "</table>\n",
       "</div>"
      ],
      "text/plain": [
       "   funded_amnt  term  sub_grade  emp_length  annual_inc    dti  delinq_2yrs  \\\n",
       "0       5000.0    36          7        10.0     24000.0  27.65          0.0   \n",
       "1       2500.0    60         14         0.0     30000.0   1.00          0.0   \n",
       "\n",
       "   inq_last_6mths  revol_bal  revol_util  total_acc  pub_rec_bankruptcies  \\\n",
       "0             1.0    13648.0        83.7        9.0                   0.0   \n",
       "1             5.0     1687.0         9.4        4.0                   0.0   \n",
       "\n",
       "   default_ind  fico_range_avg  last_fico_range_avg  home_ownership_MORTGAGE  \\\n",
       "0            0           737.0                742.0                        0   \n",
       "1            1           742.0                249.5                        0   \n",
       "\n",
       "   home_ownership_OTHER  verification_status_Source Verified  \\\n",
       "0                     0                                    0   \n",
       "1                     0                                    1   \n",
       "\n",
       "   verification_status_Verified  purpose_credit_card  \\\n",
       "0                             1                    1   \n",
       "1                             0                    0   \n",
       "\n",
       "   purpose_home_improvement  purpose_other  \n",
       "0                         0              0  \n",
       "1                         0              1  "
      ]
     },
     "execution_count": 109,
     "metadata": {},
     "output_type": "execute_result"
    }
   ],
   "source": [
    "#confirm that home_ownership_RENT', 'verification_status_Not Verified', 'purpose_debt_consolidation' were dropped \n",
    "loan_data_with_dummies.head(2)"
   ]
  },
  {
   "cell_type": "markdown",
   "metadata": {},
   "source": [
    "## <font color='green'> <u>Dropping the Outcome Column</u></font>\n",
    "##### `default_ind` is dropped as it is the outcome column being predicted in the model"
   ]
  },
  {
   "cell_type": "code",
   "execution_count": 110,
   "metadata": {
    "collapsed": true
   },
   "outputs": [],
   "source": [
    "# drop outcome column \n",
    "loan_data_X = loan_data_with_dummies.drop('default_ind', axis = 1)\n",
    "loan_data_Y = loan_data_with_dummies['default_ind']"
   ]
  },
  {
   "cell_type": "markdown",
   "metadata": {},
   "source": [
    "# Part 2: Before Analysis Identification\n",
    "\n",
    "The following list is the hypothesized rank of variables due to importance. Justification is provided for the positions of each variable. The dummy variables are treated collectively rather than separately in the importance variable list. \n",
    "\n",
    "#### <u>Hypothesized Ordered List of Input Characteristics</u>\n",
    "1. <b> `delinq_2yrs`</b>: The number of occurrences of delinquency in the past two years where the payment is 30+ days past due will indicate irresponsibility. This variable can help predict whether the individual is also likely to default in the future. \n",
    "2. <b> `last_fico_range_avg` </b>: The most recent fico range average value will be an indicator of an individual’s credit score which will be extremely important in determining whether an individual is likely to default. \n",
    "3. <b> `sub_grade` </b>: An individual is classified based on their credit score and graded on the likelihood that they repay their loan principal and interest. This variable has already identified how likely an individual is to repay, assessing the riskiness for a loan. \n",
    "4. <b> `pub_rec_bankruptcies`</b>: Public bankruptcies are likely to be a strong predictor of whether a loan defaults as the \n",
    "5. <b> `dti` </b>: The ratio of an individual's total monthly debt repayment in comparison to the individual’s monthly income, if this ratio is closer to or greater than one, they will be more likely to default on the loan.\n",
    "6. <b> `inq_last_6mths` </b>: Individuals with many inquiries in the last six months are likely to be very desperate for a loan which could be a strong predictor of default.  \n",
    "7. <b> `annual_inc` </b>: An individual with a high annual income is likely more responsible and less likely to default than an individual with a lower annual income. Therefore it may be a valuable predictor of whether an individual will default. \n",
    "8. <b> `purpose` dummy columns</b>: The reason to why the loan was required might reflect the buying behaviour of the person, for example, if the loan is to pay more debt it shows poor financial managemnt, thus it might provide valuable insight.\n",
    "9. <b> `total_acc` </b>: Given that the number of credit lines an individual has can harm their credit score, the total amount of lines an individual has may not be a key predictor seeing that we already know their credit score. \n",
    "10. <b> `funded_amnt` </b>: The funded amount would be relatively important in predicting defaults as those with a high funded value may be less likely to default than those who have committed less money. \n",
    "11. <b> `revol_util` </b>: Credit utilization is relatively important given it is the total debt divided by total credit. However, revol_util is near the bottom of the list because these metrics are reflected in other metrics above such as the last_fico_range_avg.\n",
    "12. <b> `revol_bal` </b>: The main concern with revolving balance is that it accrues interest, but if Lending Club already has an idea if an individual will repay the loan principal and its interest, then this variable is not an important factor. \n",
    "13. <b> `home_ownership` dummy columns </b>: Given there are only three possible options for the home_ownership variable it appears to be somewhat important, but it is not as significant as other predictors so home_ownership is toward the bottom of the list. \n",
    "14. <b> `fico_range_avg` </b>: The last_fico_range_avg is likely to be much more important than the fico_range_avg given it is the most recent value, therefore fico_range_average is toward the bottom of the list of hypothesized predictors.  \n",
    "15. <b> `verification_status` dummy columns </b>: The verification status does not appear to be that important because there are verifications from multiple sources, so it may not be reliable to trust verifications from sources other than Lending Club. \n",
    "16. <b> `emp_length` </b>: An individual’s length of employment is also towards the bottom of the list as it is unlikely there is a significant difference between any two values such as four years of employment versus three or five years. \n",
    "17. <b> `term`</b>: The length of the term should not be a very important factor given it can only be two values, 36 or 60, therefore it is at the bottom of the hypothesized predictors. "
   ]
  },
  {
   "cell_type": "markdown",
   "metadata": {},
   "source": [
    "# Part 3: Split the Data"
   ]
  },
  {
   "cell_type": "code",
   "execution_count": 111,
   "metadata": {
    "collapsed": true
   },
   "outputs": [],
   "source": [
    "loan_train_X, loan_test_X, loan_train_Y, loan_test_Y = train_test_split(loan_data_X, loan_data_Y, random_state = 533, \n",
    "                                                                        train_size = 0.7)"
   ]
  },
  {
   "cell_type": "markdown",
   "metadata": {},
   "source": [
    "# Part 4: Learn the Classifiers\n",
    "\n",
    "##### Contents:\n",
    "- Logistic Regression Classifier\n",
    "- Decision Tree Classifier\n",
    "- Cross Validation for parameters"
   ]
  },
  {
   "cell_type": "code",
   "execution_count": 112,
   "metadata": {},
   "outputs": [
    {
     "data": {
      "text/plain": [
       "0    32876\n",
       "1     5505\n",
       "Name: default_ind, dtype: int64"
      ]
     },
     "execution_count": 112,
     "metadata": {},
     "output_type": "execute_result"
    }
   ],
   "source": [
    "loan_data['default_ind'].value_counts()\n",
    "\n",
    "#data is clearly unbalanced thus justifying class_weight = 'balanced' in the logistic regression and decision tree models"
   ]
  },
  {
   "cell_type": "code",
   "execution_count": 113,
   "metadata": {
    "collapsed": true
   },
   "outputs": [],
   "source": [
    "#Create Logistic Regression Classifier\n",
    "log_model=LogisticRegression(solver='liblinear',random_state=533,class_weight='balanced')\n",
    "    \n",
    "log_params= {'penalty': ['l1','l2'],\n",
    "        'C': [0.01,0.1,1,10,100]}\n",
    "    \n",
    "grid_search_log= GridSearchCV(log_model,param_grid=log_params,cv=10,n_jobs=3)\n",
    "    \n",
    "grid_search_log.fit(loan_train_X,loan_train_Y)\n",
    "    \n",
    "best_log= grid_search_log.best_estimator_\n",
    "    \n",
    "log_predict_y=best_log.predict(loan_test_X)"
   ]
  },
  {
   "cell_type": "code",
   "execution_count": 114,
   "metadata": {
    "collapsed": true
   },
   "outputs": [],
   "source": [
    "#Create Decision Tree Classifiers\n",
    "dec_model = DecisionTree(class_weight='balanced', random_state=533)\n",
    "\n",
    "dec_params = {'max_depth':[2,3,4,5,6,7,8],\n",
    "          'max_features':['auto','log2',None]}\n",
    "\n",
    "\n",
    "\n",
    "grid_search_dec_tree = GridSearchCV(dec_model, param_grid=dec_params, cv=10, n_jobs = 3)\n",
    "\n",
    "grid_search_dec_tree.fit(loan_train_X, loan_train_Y)\n",
    "\n",
    "best_dec= grid_search_dec_tree.best_estimator_\n",
    "\n",
    "dec_predict_y= best_dec.predict(loan_test_X)"
   ]
  },
  {
   "cell_type": "markdown",
   "metadata": {},
   "source": [
    "# Part 5: Testing the Performance of Classifiers\n",
    "\n",
    "##### Contents:\n",
    "- Accuracy \n",
    "- Confusion Matrix"
   ]
  },
  {
   "cell_type": "code",
   "execution_count": 115,
   "metadata": {},
   "outputs": [
    {
     "name": "stdout",
     "output_type": "stream",
     "text": [
      "The accuracy of the logistic regression model is 82.97003907946157\n"
     ]
    },
    {
     "data": {
      "image/png": "[encoded data removed]",
      "text/plain": [
       "<Figure size 432x288 with 1 Axes>"
      ]
     },
     "metadata": {
      "needs_background": "light"
     },
     "output_type": "display_data"
    }
   ],
   "source": [
    "#LOGISTIC REGRESSION MODEL\n",
    "print(\"The accuracy of the logistic regression model is\", metrics.accuracy_score(loan_test_Y,log_predict_y)*100)\n",
    "\n",
    "conf_mat= metrics.confusion_matrix(loan_test_Y, log_predict_y)\n",
    "\n",
    "sns.heatmap(conf_mat, fmt='g',square=True, annot=True, cbar = False, xticklabels = ['Not Default','Default'], \n",
    "                                                            yticklabels = ['Not Default','Default'], cmap= 'Blues')\n",
    "plt.xlabel(\"Predicted Value\")\n",
    "plt.ylabel(\"True Value\");"
   ]
  },
  {
   "cell_type": "code",
   "execution_count": 116,
   "metadata": {},
   "outputs": [
    {
     "name": "stdout",
     "output_type": "stream",
     "text": [
      "The accuracy of the decision tree model is 79.8697351280938\n"
     ]
    },
    {
     "data": {
      "image/png": "[encoded data removed]",
      "text/plain": [
       "<Figure size 432x288 with 1 Axes>"
      ]
     },
     "metadata": {
      "needs_background": "light"
     },
     "output_type": "display_data"
    }
   ],
   "source": [
    "#DECISION TREE MODEL\n",
    "print(\"The accuracy of the decision tree model is\", metrics.accuracy_score(loan_test_Y,dec_predict_y)*100)\n",
    "\n",
    "conf_mat= metrics.confusion_matrix(loan_test_Y, dec_predict_y)\n",
    "\n",
    "sns.heatmap(conf_mat, fmt='g',square=True, annot=True, cbar = False, xticklabels = ['Not Default','Default'], \n",
    "                                                            yticklabels = ['Not Default','Default'], cmap=\"Blues\")\n",
    "plt.xlabel(\"Predicted Value\")\n",
    "plt.ylabel(\"True Value\");"
   ]
  },
  {
   "cell_type": "markdown",
   "metadata": {},
   "source": [
    "# Part 6: Understanding the Classifiers\n",
    "\n",
    "##### Contents\n",
    "- plotting coefficients and features\n",
    "- discuss how similar/different from part 2 (predicted importance)"
   ]
  },
  {
   "cell_type": "markdown",
   "metadata": {},
   "source": [
    "#### Plotting functions used in Step 6: Call this function with the appropriate parameters in Step 6. "
   ]
  },
  {
   "cell_type": "code",
   "execution_count": 117,
   "metadata": {
    "collapsed": true,
    "deletable": false,
    "editable": false,
    "nbgrader": {
     "grade": false,
     "locked": true,
     "solution": false
    }
   },
   "outputs": [],
   "source": [
    "# Defining a function to plot coefficients as feature importance\n",
    "# INPUT: Used for Logistic Regression Classifier\n",
    "#        Feature Names\n",
    "# OUTPUT: A plot of top most Coefficients\n",
    "def plot_feature_importance_coeff(model, Xnames, cls_nm = None):\n",
    "\n",
    "    imp_features = pd.DataFrame(np.column_stack((Xnames, model.coef_.ravel())), columns = ['feature', 'importance'])\n",
    "    imp_features[['importance']] = imp_features[['importance']].astype(float)\n",
    "    imp_features[['abs_importance']] = imp_features[['importance']].abs()\n",
    "    # Sort the features based on absolute value of importance\n",
    "    imp_features = imp_features.sort_values(by = ['abs_importance'], ascending = [1])\n",
    "    \n",
    "    # Plot the feature importances \n",
    "    plt.figure(figsize=(10, 16))\n",
    "    plt.title(cls_nm + \" - Feature Importance\")\n",
    "    plt.barh(range(imp_features.shape[0]), imp_features['importance'],\n",
    "            color=\"b\", align=\"center\")\n",
    "    plt.yticks(range(imp_features.shape[0]), imp_features['feature'], )\n",
    "    plt.ylim([-1, imp_features.shape[0]])\n",
    "    plt.xlabel('Importance')\n",
    "    plt.ylabel('Feature')\n",
    "    plt.tight_layout() \n",
    "    plt.savefig(cls_nm + \"_feature_imp.png\", bbox_inches='tight')\n",
    "    plt.show()"
   ]
  },
  {
   "cell_type": "code",
   "execution_count": 118,
   "metadata": {},
   "outputs": [
    {
     "data": {
      "image/png": "[encoded data removed]",
      "text/plain": [
       "<Figure size 720x1152 with 1 Axes>"
      ]
     },
     "metadata": {
      "needs_background": "light"
     },
     "output_type": "display_data"
    }
   ],
   "source": [
    "plot_feature_importance_coeff(best_log, loan_data_X.columns, cls_nm=\"Best CV Logistic Regression\")"
   ]
  },
  {
   "cell_type": "markdown",
   "metadata": {},
   "source": [
    "### Justification for Logistic Regression Features\n",
    "When comparing the important features from the logistic regression model to the hypothesized order of features, there were some similarities but also some stark differences. First, the pub_rec_bankruptcies were the most important in the logistic regression model, and this variable was hypothesized to be fourth. Given there were twenty features this was a relatively close prediction. The second and third most important features of the logistic regression were the purpose_credit_card and the purpose_home_improvement. Both of these were predicted to be eighth in the hypothesized model as the hypothesized order predicted the dummy variables collectively.\n",
    "\n",
    "Some of the largest differences between the logistic regression and the hypothesized features were for the annual_inc, dti, and last_fico_range_avg. The annual_inc was hypothesized to be 7th but the logistic regression had it as the 20th most important feature. This is likely because an individual’s annual income is reflected through other metrics that are more important features in the model. Another difference was that dti was hypothesized to be the fifth most important feature, but dti was the 15th most important feature in the logistic regression. Although there were some differences between the hypothesized features and the important features in the logistic regression model, there were also some similarities. Ultimately, the logistic regression model determined that pub_rec_bankruptcies, purpose_credit_card, purpose_home_improvement, purpose_other, and inq_last_6mnths were the most important features for predicting loan defaults. \n"
   ]
  },
  {
   "cell_type": "code",
   "execution_count": 119,
   "metadata": {
    "collapsed": true,
    "deletable": false,
    "editable": false,
    "nbgrader": {
     "grade": false,
     "locked": true,
     "solution": false
    }
   },
   "outputs": [],
   "source": [
    "# Defining a function to plot feature importance for trees\n",
    "# INPUT: Used for Tree based Classifier\n",
    "#        Feature Names\n",
    "# OUTPUT: A plot of top most features\n",
    "\n",
    "def plot_feature_importance(model, Xnames, cls_nm = None):\n",
    "\n",
    "    # Measuring important features\n",
    "    imp_features = pd.DataFrame(np.column_stack((Xnames, model.feature_importances_)), columns = ['feature', 'importance'])\n",
    "    imp_features[['importance']] = imp_features[['importance']].astype(float)\n",
    "    imp_features[['abs_importance']] = imp_features[['importance']].abs()\n",
    "    # Sort the features based on absolute value of importance\n",
    "    imp_features = imp_features.sort_values(by = ['abs_importance'], ascending = [1])\n",
    "    \n",
    "    # Plot the feature importances\n",
    "    plt.figure(figsize=(10, 16))\n",
    "    plt.title(cls_nm + \" - Feature Importance\")\n",
    "    plt.barh(range(imp_features.shape[0]), imp_features['importance'],\n",
    "            color=\"b\", align=\"center\")\n",
    "    plt.yticks(range(imp_features.shape[0]), imp_features['feature'], )\n",
    "    plt.ylim([-1, imp_features.shape[0]])\n",
    "    plt.xlabel('Importance')\n",
    "    plt.ylabel('Feature')\n",
    "    plt.tight_layout() \n",
    "    plt.savefig(cls_nm + \"_feature_imp.png\", bbox_inches='tight')\n",
    "    plt.show()"
   ]
  },
  {
   "cell_type": "code",
   "execution_count": 120,
   "metadata": {},
   "outputs": [
    {
     "data": {
      "image/png": "[encoded data removed]",
      "text/plain": [
       "<Figure size 720x1152 with 1 Axes>"
      ]
     },
     "metadata": {
      "needs_background": "light"
     },
     "output_type": "display_data"
    }
   ],
   "source": [
    "plot_feature_importance(best_dec, loan_data_X.columns, cls_nm=\"Best CV Decision Tree\")"
   ]
  },
  {
   "cell_type": "markdown",
   "metadata": {},
   "source": [
    "### Justification for Decision Tree Features\n",
    "Looking at the decision tree feature importance, we were able to see that there were some inaccuracies in our hypothesized model. The three features that held importance in the decision tree were last_fico_range_avg, total_acc, and term. Our team predicted that last_fico_range_avg would hold a lot of weight, placing it as the second most important predictor, when in reality it was the top predictor. However, our team did not realize the importance of total_acc and term, placing them 9th and 17th, respectively. These variables turned out to be the second and third most accurate predictors. Following the top three variables, the rest of the variables displayed zero importance in predicting loan defaults."
   ]
  },
  {
   "cell_type": "markdown",
   "metadata": {},
   "source": [
    "# Part 7: Report on Managerial Implications\n",
    "Lending Club management should select a model based on its priorities. However, this begins by comparing the two models and identifying the strengths and weaknesses of each model. In terms of accuracy, the logistic regression model had a higher accuracy value of 82.97% in comparison to the decision tree model which had an accuracy of 79.87%. When comparing the models however based on errors, there is a different story. The logistic regression has fewer false positives which is predicting someone will default when they do not actually default. However, the decision tree model has fewer false negatives, which is predicting someone will not default who actually defaults. \n",
    "\n",
    "Ultimately, Lending club management must first determine their priorities in order to choose which model they would prefer. If Lending Club wants to have the highest overall accuracy of a model, management may select the logistic regression. However, if management wants a model that minimizes the number of loans predicted not to default but actually end up defaulting, then the decision tree model would be best. \n",
    "\n",
    "The decision tree was more cautious, grouping more individuals to default, who did not actually default. Therefore, limiting the risk of those individuals defaulting. It prioritized an individual’s latest credit score, the total amount of credit lines on their account, and term length. Although it only had a lower accuracy score, it was able to accurately predict more individuals that defaulted on their loans, increasing the number of false positives in the model. \n",
    "\n",
    "On the other hand, the logistic regression model had more false negatives. These false negatives have a greater potential of hurting Lending Club. This means the logistic regression model would predict that an individual would not default on their loan, when in reality they end up defaulting. If the company uses this model, it would give out loans to individuals who will not end up repaying it. Even with the higher accuracy value, it could end up causing a higher amount of harm to the company. \n",
    "\n",
    "Lending Club management also has a key interest in identifying features that are important to determining whether an individual defaults on a loan. In the logistic regression model, public record bankruptcies and the purpose of the loan were critical features. On the other hand, the top three features in the decision tree model were the last FICO range average, the term of the loan, and the total number of credit lines the individual has. Although there are some differences between the models, the logistic regression and the decision tree identified key features for defaulting. Lending Tree must consider and closely monitor these features as they can help mitigate Lending Club’s risk by predicting whether an individual will default. "
   ]
  }
 ],
 "metadata": {
  "kernelspec": {
   "display_name": "Python 3.8",
   "language": "python",
   "name": "python38"
  },
  "language_info": {
   "codemirror_mode": {
    "name": "ipython",
    "version": 3
   },
   "file_extension": ".py",
   "mimetype": "text/x-python",
   "name": "python",
   "nbconvert_exporter": "python",
   "pygments_lexer": "ipython3",
   "version": "3.8.7"
  }
 },
 "nbformat": 4,
 "nbformat_minor": 2
}
